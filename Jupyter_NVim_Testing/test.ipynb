{
  "cells": [
    {
      "cell_type": "code",
      "metadata": {
        "jukit_cell_id": "uOuVDujMux"
      },
      "source": [
        "import numpy as np\n",
        "import pandas as pd\n",
        "import matplotlib.pyplot as plt"
      ],
      "outputs": [],
      "execution_count": null
    },
    {
      "cell_type": "code",
      "metadata": {
        "jukit_cell_id": "uPWrP3Jda9"
      },
      "source": [
        "x = np.linspace(0, 1, 100)\n",
        "y = np.sin(2 * np.pi * x)"
      ],
      "outputs": [],
      "execution_count": null
    },
    {
      "cell_type": "code",
      "metadata": {
        "jukit_cell_id": "E9Idr8wlve"
      },
      "source": [
        "plt.plot(x, y)\n",
        "plt.show()"
      ],
      "outputs": [],
      "execution_count": null
    }
  ],
  "metadata": {
    "anaconda-cloud": {},
    "kernelspec": {
      "display_name": "python",
      "language": "python",
      "name": "python3"
    }
  },
  "nbformat": 4,
  "nbformat_minor": 4
}