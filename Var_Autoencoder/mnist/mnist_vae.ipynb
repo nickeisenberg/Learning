{
  "cells": [
    {
      "cell_type": "code",
      "metadata": {
        "jukit_cell_id": "68q1He6YUn"
      },
      "source": [
        "from keras.datasets import mnist\n",
        "import numpy as np\n",
        "import tensorflow as tf\n",
        "from tensorflow import keras\n",
        "import plotly.graph_objects as go\n",
        "from plotly.subplots import make_subplots\n",
        "import plotly.express as px\n",
        "from plotly.io import renderers\n",
        "import pandas as pd\n",
        "renderers.default = 'browser'"
      ],
      "outputs": [],
      "execution_count": null
    },
    {
      "cell_type": "code",
      "metadata": {
        "jukit_cell_id": "IEJqCEYwDM"
      },
      "source": [
        "(x_train, x_train_lab), (x_test, x_test_lab) = mnist.load_data()\n",
        "\n",
        "mnist_digits = np.concatenate([x_train, x_test], axis=0)\n",
        "mnist_digits = np.expand_dims(mnist_digits, -1).astype(\"float32\") / 255\n",
        "\n",
        "mnist_labels = np.hstack((x_train_lab, x_test_lab))"
      ],
      "outputs": [],
      "execution_count": null
    },
    {
      "cell_type": "code",
      "metadata": {
        "jukit_cell_id": "TE2jFfLVeI"
      },
      "source": [
        "latent_dim = 2\n",
        "\n",
        "enc_inps = keras.Input(shape=(28, 28, 1))\n",
        "x = keras.layers.Conv2D(\n",
        "    32, 3, padding='same', strides=2)(enc_inps)\n",
        "x = keras.layers.Conv2D(\n",
        "    64, 3, activation='relu', padding='same', strides=2)(x)\n",
        "x = keras.layers.Flatten()(x)\n",
        "x = keras.layers.Dense(16, activation='relu')(x)\n",
        "\n",
        "z_mu = keras.layers.Dense(latent_dim, name=\"z_mean\")(x)\n",
        "z_log_var = keras.layers.Dense(latent_dim, name=\"z_log_var\")(x)\n",
        "\n",
        "encoder = keras.models.Model(enc_inps, [z_mu, z_log_var], name=\"encoder\")\n",
        "\n",
        "encoder.summary()"
      ],
      "outputs": [],
      "execution_count": null
    },
    {
      "cell_type": "code",
      "metadata": {
        "jukit_cell_id": "IAm7DZfbgF"
      },
      "source": [
        "class Sampler(keras.layers.Layer):\n",
        "    def call(self, z_mu, z_log_var):\n",
        "        batch_size = tf.shape(z_mu)[0]\n",
        "        size = tf.shape(z_mu)[1]\n",
        "        epsilon = tf.random.normal(shape=(batch_size, size))\n",
        "        return z_mu + tf.exp(0.5 * z_log_var) * epsilon"
      ],
      "outputs": [],
      "execution_count": null
    },
    {
      "cell_type": "code",
      "metadata": {
        "jukit_cell_id": "65Y13TDVOh"
      },
      "source": [
        "latent_inputs = keras.layers.Input(shape=(latent_dim,))\n",
        "\n",
        "x = keras.layers.Dense(7 * 7 * 64, activation='relu')(latent_inputs)\n",
        "x = keras.layers.Reshape((7, 7, 64))(x)\n",
        "x = keras.layers.Conv2DTranspose(\n",
        "    64, 3, strides=2, padding=\"same\", activation=\"relu\")(x)\n",
        "x = keras.layers.Conv2DTranspose(\n",
        "    32, 3, strides=2, padding=\"same\", activation=\"relu\")(x)\n",
        "decoder_outputs = keras.layers.Conv2D(1, 3, activation=\"sigmoid\", padding=\"same\")(x)\n",
        "\n",
        "decoder = keras.models.Model(latent_inputs, decoder_outputs, name=\"decoder\")\n",
        "\n",
        "decoder.summary()"
      ],
      "outputs": [],
      "execution_count": null
    },
    {
      "cell_type": "code",
      "metadata": {
        "jukit_cell_id": "otFriU1w3X"
      },
      "source": [
        "class VAE(keras.Model):\n",
        "    def __init__(self, encoder, decoder, **kwargs):\n",
        "        super().__init__(**kwargs)\n",
        "        self.encoder = encoder\n",
        "        self.decoder = decoder\n",
        "        self.sampler = Sampler()\n",
        "        self.total_loss_tracker = keras.metrics.Mean(name='total_loss')\n",
        "        self.reconstruction_loss_tracker = keras.metrics.Mean(\n",
        "            name='reconstruction_loss'\n",
        "        )\n",
        "        self.kl_loss_tracker = keras.metrics.Mean(name='kl_loss')\n",
        "\n",
        "    @property\n",
        "    def metrics(self):\n",
        "        return [self.total_loss_tracker,\n",
        "                self.reconstruction_loss_tracker,\n",
        "                self.kl_loss_tracker]\n",
        "\n",
        "    def train_step(self, data):\n",
        "        with tf.GradientTape() as tape:\n",
        "            z_mean, z_log_var = self.encoder(data)\n",
        "            z = self.sampler(z_mean, z_log_var)\n",
        "            reconstruction = decoder(z)\n",
        "            reconstruction_loss = tf.reduce_mean(\n",
        "                tf.reduce_sum(\n",
        "                    keras.losses.binary_crossentropy(data, reconstruction),\n",
        "                    axis=(1, 2)\n",
        "                )\n",
        "            )\n",
        "            kl_loss = -0.5 * (1 + z_log_var - tf.square(z_mean) - tf.exp(z_log_var))\n",
        "            total_loss = reconstruction_loss + tf.reduce_mean(kl_loss)\n",
        "            grads = tape.gradient(total_loss, self.trainable_weights)\n",
        "            self.optimizer.apply_gradients(\n",
        "                zip(grads, self.trainable_weights)\n",
        "            )\n",
        "            self.total_loss_tracker.update_state(total_loss)\n",
        "            self.reconstruction_loss_tracker.update_state(reconstruction_loss)\n",
        "            self.kl_loss_tracker.update_state(kl_loss)\n",
        "            return {\n",
        "                'total_loss': self.total_loss_tracker.result(),\n",
        "                'reconstruction_loss': self.reconstruction_loss_tracker.result(),\n",
        "                'kl_loss': self.kl_loss_tracker.result(),\n",
        "            }\n",
        "\n",
        "    def call(self, inp):\n",
        "        mu, std = self.encoder(inp)\n",
        "        z = self.sampler(mu, std)\n",
        "        inp_recon = self.decoder(z)"
      ],
      "outputs": [],
      "execution_count": null
    },
    {
      "cell_type": "code",
      "metadata": {
        "jukit_cell_id": "uWQq4Biex2"
      },
      "source": [
        "vae_model = VAE(encoder, decoder)\n",
        "\n",
        "# vae_model.compile(optimizer=keras.optimizers.Adam(), run_eagerly=True)\n",
        "# vae_model.fit(train_imgs, epochs=30, batch_size=128)"
      ],
      "outputs": [],
      "execution_count": null
    },
    {
      "cell_type": "code",
      "metadata": {
        "jukit_cell_id": "pKGWLDCna6"
      },
      "source": [
        "vae_model.build(input_shape=(None, 28, 28, 1))\n",
        "\n",
        "vae_model.summary()"
      ],
      "outputs": [],
      "execution_count": null
    },
    {
      "cell_type": "code",
      "metadata": {
        "jukit_cell_id": "c59oCk4RK9"
      },
      "source": [
        "vae_model.load_weights(\"/mnt/c/Users/EISENBNT/Projects/VAE_MNIST/model_weights.keras\")"
      ],
      "outputs": [],
      "execution_count": null
    },
    {
      "cell_type": "code",
      "metadata": {
        "jukit_cell_id": "7bo6CZ9Br4"
      },
      "source": [
        "inp = mnist_digits[5]\n",
        "inp = np.expand_dims(inp, 0)\n",
        "\n",
        "inp_lab = mnist_labels[5]\n",
        "print(inp_lab)\n",
        "\n",
        "inp_recon = vae_model.decoder.predict(\n",
        "    vae_model.sampler(*vae_model.encoder.predict(inp))\n",
        ")\n",
        "\n",
        "fig = px.imshow(inp_recon[0, :, :, 0])\n",
        "fig.show()"
      ],
      "outputs": [],
      "execution_count": null
    },
    {
      "cell_type": "code",
      "metadata": {
        "jukit_cell_id": "G8Okprc572"
      },
      "source": [
        "fig = make_subplots(25, 25)\n",
        "for i, xx in enumerate(np.linspace(-1, 1, 25)):\n",
        "    for j, yy in enumerate(np.linspace(-1, 1, 25)):\n",
        "        recon = vae_model.decoder.predict([[xx, yy]])\n",
        "        _ = fig.add_trace(\n",
        "            px.imshow(recon[0, :, :, 0]).data[0],\n",
        "            row=i+1, col=j+1\n",
        "        )\n",
        "        _ = fig.update_xaxes(visible=False)\n",
        "        _ = fig.update_yaxes(visible=False)\n",
        "\n",
        "fig.show()"
      ],
      "outputs": [],
      "execution_count": null
    },
    {
      "cell_type": "code",
      "metadata": {
        "jukit_cell_id": "qOEEZtQmOC"
      },
      "source": [
        "latents = vae_model.sampler(*vae_model.encoder.predict(mnist_digits))\n",
        "\n",
        "df_data = np.hstack((latents, mnist_labels.reshape((-1, 1))))\n",
        "\n",
        "latents = pd.DataFrame(\n",
        "    data=df_data,\n",
        "    columns=['x', 'y', 'label']\n",
        ")\n",
        "\n",
        "fig = px.scatter(\n",
        "    latents, x='x', y='y', color='label'\n",
        ")\n",
        "\n",
        "fig.show()"
      ],
      "outputs": [],
      "execution_count": null
    }
  ],
  "metadata": {
    "anaconda-cloud": {},
    "kernelspec": {
      "display_name": "python",
      "language": "python",
      "name": "python3"
    }
  },
  "nbformat": 4,
  "nbformat_minor": 4
}